{
  "cells": [
    {
      "cell_type": "markdown",
      "metadata": {
        "id": "view-in-github",
        "colab_type": "text"
      },
      "source": [
        "<a href=\"https://colab.research.google.com/github/WickedSero/NeuralNetworks/blob/main/2a_convolutional_neural_networks.ipynb\" target=\"_parent\"><img src=\"https://colab.research.google.com/assets/colab-badge.svg\" alt=\"Open In Colab\"/></a>"
      ]
    },
    {
      "cell_type": "markdown",
      "metadata": {
        "id": "jiBh5inQ1Vgm"
      },
      "source": [
        "# Sieci splotowe (Convolutional Neural Networks)"
      ]
    },
    {
      "cell_type": "code",
      "metadata": {
        "ExecuteTime": {
          "end_time": "2025-01-03T10:25:53.706036Z",
          "start_time": "2025-01-03T10:23:55.730359Z"
        },
        "id": "e5dmb3Cq1Vgv",
        "outputId": "3503c27a-da6c-4b04-ff66-ee3a6772dc02"
      },
      "source": [
        "!pip install matplotlib numpy torch torchvision"
      ],
      "outputs": [
        {
          "name": "stdout",
          "output_type": "stream",
          "text": [
            "Collecting matplotlib\n",
            "  Using cached matplotlib-3.7.5-cp38-cp38-win_amd64.whl.metadata (5.8 kB)\n",
            "Requirement already satisfied: numpy in c:\\users\\szwac\\.conda\\envs\\untitled1\\lib\\site-packages (1.24.4)\n",
            "Collecting torch\n",
            "  Using cached torch-2.4.1-cp38-cp38-win_amd64.whl.metadata (27 kB)\n",
            "Collecting torchvision\n",
            "  Downloading torchvision-0.19.1-cp38-cp38-win_amd64.whl.metadata (6.1 kB)\n",
            "Collecting contourpy>=1.0.1 (from matplotlib)\n",
            "  Using cached contourpy-1.1.1-cp38-cp38-win_amd64.whl.metadata (5.9 kB)\n",
            "Collecting cycler>=0.10 (from matplotlib)\n",
            "  Using cached cycler-0.12.1-py3-none-any.whl.metadata (3.8 kB)\n",
            "Collecting fonttools>=4.22.0 (from matplotlib)\n",
            "  Using cached fonttools-4.55.3-cp38-cp38-win_amd64.whl.metadata (168 kB)\n",
            "Collecting kiwisolver>=1.0.1 (from matplotlib)\n",
            "  Using cached kiwisolver-1.4.7-cp38-cp38-win_amd64.whl.metadata (6.4 kB)\n",
            "Requirement already satisfied: packaging>=20.0 in c:\\users\\szwac\\.conda\\envs\\untitled1\\lib\\site-packages (from matplotlib) (24.1)\n",
            "Collecting pillow>=6.2.0 (from matplotlib)\n",
            "  Using cached pillow-10.4.0-cp38-cp38-win_amd64.whl.metadata (9.3 kB)\n",
            "Collecting pyparsing>=2.3.1 (from matplotlib)\n",
            "  Using cached pyparsing-3.1.4-py3-none-any.whl.metadata (5.1 kB)\n",
            "Requirement already satisfied: python-dateutil>=2.7 in c:\\users\\szwac\\.conda\\envs\\untitled1\\lib\\site-packages (from matplotlib) (2.9.0.post0)\n",
            "Requirement already satisfied: importlib-resources>=3.2.0 in c:\\users\\szwac\\.conda\\envs\\untitled1\\lib\\site-packages (from matplotlib) (6.4.0)\n",
            "Collecting filelock (from torch)\n",
            "  Using cached filelock-3.16.1-py3-none-any.whl.metadata (2.9 kB)\n",
            "Requirement already satisfied: typing-extensions>=4.8.0 in c:\\users\\szwac\\.conda\\envs\\untitled1\\lib\\site-packages (from torch) (4.11.0)\n",
            "Collecting sympy (from torch)\n",
            "  Using cached sympy-1.13.3-py3-none-any.whl.metadata (12 kB)\n",
            "Collecting networkx (from torch)\n",
            "  Using cached networkx-3.1-py3-none-any.whl.metadata (5.3 kB)\n",
            "Requirement already satisfied: jinja2 in c:\\users\\szwac\\.conda\\envs\\untitled1\\lib\\site-packages (from torch) (3.1.4)\n",
            "Collecting fsspec (from torch)\n",
            "  Using cached fsspec-2024.12.0-py3-none-any.whl.metadata (11 kB)\n",
            "Requirement already satisfied: zipp>=3.1.0 in c:\\users\\szwac\\.conda\\envs\\untitled1\\lib\\site-packages (from importlib-resources>=3.2.0->matplotlib) (3.20.2)\n",
            "Requirement already satisfied: six>=1.5 in c:\\users\\szwac\\.conda\\envs\\untitled1\\lib\\site-packages (from python-dateutil>=2.7->matplotlib) (1.16.0)\n",
            "Requirement already satisfied: MarkupSafe>=2.0 in c:\\users\\szwac\\.conda\\envs\\untitled1\\lib\\site-packages (from jinja2->torch) (2.1.3)\n",
            "Collecting mpmath<1.4,>=1.1.0 (from sympy->torch)\n",
            "  Using cached mpmath-1.3.0-py3-none-any.whl.metadata (8.6 kB)\n",
            "Using cached matplotlib-3.7.5-cp38-cp38-win_amd64.whl (7.5 MB)\n",
            "Using cached torch-2.4.1-cp38-cp38-win_amd64.whl (199.4 MB)\n",
            "Downloading torchvision-0.19.1-cp38-cp38-win_amd64.whl (1.3 MB)\n",
            "   ---------------------------------------- 0.0/1.3 MB ? eta -:--:--\n",
            "   ---------------- ----------------------- 0.5/1.3 MB 3.4 MB/s eta 0:00:01\n",
            "   -------------------------------- ------- 1.0/1.3 MB 4.2 MB/s eta 0:00:01\n",
            "   ---------------------------------------- 1.3/1.3 MB 2.3 MB/s eta 0:00:00\n",
            "Using cached contourpy-1.1.1-cp38-cp38-win_amd64.whl (477 kB)\n",
            "Using cached cycler-0.12.1-py3-none-any.whl (8.3 kB)\n",
            "Using cached fonttools-4.55.3-cp38-cp38-win_amd64.whl (1.5 MB)\n",
            "Using cached kiwisolver-1.4.7-cp38-cp38-win_amd64.whl (55 kB)\n",
            "Using cached pillow-10.4.0-cp38-cp38-win_amd64.whl (2.6 MB)\n",
            "Using cached pyparsing-3.1.4-py3-none-any.whl (104 kB)\n",
            "Using cached filelock-3.16.1-py3-none-any.whl (16 kB)\n",
            "Using cached fsspec-2024.12.0-py3-none-any.whl (183 kB)\n",
            "Using cached networkx-3.1-py3-none-any.whl (2.1 MB)\n",
            "Using cached sympy-1.13.3-py3-none-any.whl (6.2 MB)\n",
            "Using cached mpmath-1.3.0-py3-none-any.whl (536 kB)\n",
            "Installing collected packages: mpmath, sympy, pyparsing, pillow, networkx, kiwisolver, fsspec, fonttools, filelock, cycler, contourpy, torch, matplotlib, torchvision\n",
            "Successfully installed contourpy-1.1.1 cycler-0.12.1 filelock-3.16.1 fonttools-4.55.3 fsspec-2024.12.0 kiwisolver-1.4.7 matplotlib-3.7.5 mpmath-1.3.0 networkx-3.1 pillow-10.4.0 pyparsing-3.1.4 sympy-1.13.3 torch-2.4.1 torchvision-0.19.1\n"
          ]
        }
      ],
      "execution_count": null
    },
    {
      "cell_type": "code",
      "metadata": {
        "ExecuteTime": {
          "end_time": "2025-01-03T10:26:05.636939Z",
          "start_time": "2025-01-03T10:26:02.893809Z"
        },
        "id": "Gvw36kK21Vgz"
      },
      "source": [
        "%matplotlib inline\n",
        "\n",
        "import matplotlib\n",
        "import numpy as np\n",
        "import matplotlib.pyplot as plt\n",
        "\n",
        "import torch\n",
        "import torch.nn as nn\n",
        "import torch.optim as optim\n",
        "import torch.utils.data as data"
      ],
      "outputs": [],
      "execution_count": null
    },
    {
      "cell_type": "markdown",
      "metadata": {
        "id": "jyZOtHg61Vg1"
      },
      "source": [
        "### Przygotowanie danych\n",
        "Wykorzystamy w zadaniu zbiór Fashion-MNIST. Jak zwykle zaczynamy od pobrania danych, sprawdzamy krótko jak wyglądają, a następnie definiujemy miarę trafności"
      ]
    },
    {
      "cell_type": "code",
      "metadata": {
        "ExecuteTime": {
          "end_time": "2025-01-03T10:26:39.452511Z",
          "start_time": "2025-01-03T10:26:24.610048Z"
        },
        "id": "zidCTLRu1Vg2",
        "outputId": "34eeac50-423b-4130-dea8-edd37e7eae3d"
      },
      "source": [
        "import torchvision.transforms as transforms\n",
        "from torchvision.datasets import FashionMNIST\n",
        "\n",
        "target_directory = \"fmnist\"\n",
        "\n",
        "fmnist_real_train = FashionMNIST(target_directory, train=True, download=True, transform=transforms.ToTensor())\n",
        "fmnist_test = FashionMNIST(target_directory, train=False, download=True, transform=transforms.ToTensor())"
      ],
      "outputs": [
        {
          "name": "stdout",
          "output_type": "stream",
          "text": [
            "Downloading http://fashion-mnist.s3-website.eu-central-1.amazonaws.com/train-images-idx3-ubyte.gz\n",
            "Downloading http://fashion-mnist.s3-website.eu-central-1.amazonaws.com/train-images-idx3-ubyte.gz to fmnist\\FashionMNIST\\raw\\train-images-idx3-ubyte.gz\n"
          ]
        },
        {
          "name": "stderr",
          "output_type": "stream",
          "text": [
            "100.0%\n"
          ]
        },
        {
          "name": "stdout",
          "output_type": "stream",
          "text": [
            "Extracting fmnist\\FashionMNIST\\raw\\train-images-idx3-ubyte.gz to fmnist\\FashionMNIST\\raw\n",
            "\n",
            "Downloading http://fashion-mnist.s3-website.eu-central-1.amazonaws.com/train-labels-idx1-ubyte.gz\n",
            "Downloading http://fashion-mnist.s3-website.eu-central-1.amazonaws.com/train-labels-idx1-ubyte.gz to fmnist\\FashionMNIST\\raw\\train-labels-idx1-ubyte.gz\n"
          ]
        },
        {
          "name": "stderr",
          "output_type": "stream",
          "text": [
            "100.0%\n"
          ]
        },
        {
          "name": "stdout",
          "output_type": "stream",
          "text": [
            "Extracting fmnist\\FashionMNIST\\raw\\train-labels-idx1-ubyte.gz to fmnist\\FashionMNIST\\raw\n",
            "\n",
            "Downloading http://fashion-mnist.s3-website.eu-central-1.amazonaws.com/t10k-images-idx3-ubyte.gz\n",
            "Downloading http://fashion-mnist.s3-website.eu-central-1.amazonaws.com/t10k-images-idx3-ubyte.gz to fmnist\\FashionMNIST\\raw\\t10k-images-idx3-ubyte.gz\n"
          ]
        },
        {
          "name": "stderr",
          "output_type": "stream",
          "text": [
            "100.0%\n"
          ]
        },
        {
          "name": "stdout",
          "output_type": "stream",
          "text": [
            "Extracting fmnist\\FashionMNIST\\raw\\t10k-images-idx3-ubyte.gz to fmnist\\FashionMNIST\\raw\n",
            "\n",
            "Downloading http://fashion-mnist.s3-website.eu-central-1.amazonaws.com/t10k-labels-idx1-ubyte.gz\n",
            "Downloading http://fashion-mnist.s3-website.eu-central-1.amazonaws.com/t10k-labels-idx1-ubyte.gz to fmnist\\FashionMNIST\\raw\\t10k-labels-idx1-ubyte.gz\n"
          ]
        },
        {
          "name": "stderr",
          "output_type": "stream",
          "text": [
            "100.0%"
          ]
        },
        {
          "name": "stdout",
          "output_type": "stream",
          "text": [
            "Extracting fmnist\\FashionMNIST\\raw\\t10k-labels-idx1-ubyte.gz to fmnist\\FashionMNIST\\raw\n",
            "\n"
          ]
        },
        {
          "name": "stderr",
          "output_type": "stream",
          "text": [
            "\n"
          ]
        }
      ],
      "execution_count": null
    },
    {
      "cell_type": "code",
      "metadata": {
        "ExecuteTime": {
          "end_time": "2025-01-03T10:27:24.242784Z",
          "start_time": "2025-01-03T10:27:24.212761Z"
        },
        "id": "0R05yKC71Vg3",
        "outputId": "44d5d170-7cc0-4a40-98dd-bd48c9c4772f"
      },
      "source": [
        "fmnist_train, fmnist_validation = data.random_split(fmnist_real_train, (48000, 12000))\n",
        "len(fmnist_train), len(fmnist_validation)"
      ],
      "outputs": [
        {
          "data": {
            "text/plain": [
              "(48000, 12000)"
            ]
          },
          "execution_count": 4,
          "metadata": {},
          "output_type": "execute_result"
        }
      ],
      "execution_count": null
    },
    {
      "cell_type": "code",
      "metadata": {
        "ExecuteTime": {
          "end_time": "2025-01-03T10:27:45.541002Z",
          "start_time": "2025-01-03T10:27:45.528092Z"
        },
        "id": "6yLqV-pI1Vg4",
        "outputId": "b12da6b9-11df-4ebb-cf5c-6d9b04740d83"
      },
      "source": [
        "fmnist_train[0][0].shape"
      ],
      "outputs": [
        {
          "data": {
            "text/plain": [
              "torch.Size([1, 28, 28])"
            ]
          },
          "execution_count": 5,
          "metadata": {},
          "output_type": "execute_result"
        }
      ],
      "execution_count": null
    },
    {
      "cell_type": "code",
      "metadata": {
        "ExecuteTime": {
          "end_time": "2025-01-03T10:27:51.214338Z",
          "start_time": "2025-01-03T10:27:50.824927Z"
        },
        "id": "mG1V02JQ1Vg5",
        "outputId": "8af00eaa-2a64-4f43-8b10-10c3c3d82872"
      },
      "source": [
        "trainloader = data.DataLoader(fmnist_train, batch_size=64, shuffle=True)\n",
        "dataiter = iter(trainloader)\n",
        "images,_ = next(dataiter)\n",
        "plt.figure(figsize=(5,5))\n",
        "for k in range(12):\n",
        "    plt.subplot(3, 4, k+1)\n",
        "    plt.imshow(images[k].numpy().squeeze(), cmap='gray_r')\n",
        "    plt.axis('off')\n",
        "plt.tight_layout()\n",
        "plt.show()"
      ],
      "outputs": [
        {
          "data": {
            "text/plain": [
              "<Figure size 500x500 with 12 Axes>"
            ],
            "image/png": "[encoded data removed]"
          },
          "metadata": {},
          "output_type": "display_data"
        }
      ],
      "execution_count": null
    },
    {
      "cell_type": "code",
      "metadata": {
        "ExecuteTime": {
          "end_time": "2025-01-03T10:27:59.761240Z",
          "start_time": "2025-01-03T10:27:59.744119Z"
        },
        "id": "PuToTh_61Vg6"
      },
      "source": [
        "def compute_acc(logits, expected):\n",
        "    pred = logits.argmax(dim=1)\n",
        "    return (pred == expected).type(torch.float).mean()"
      ],
      "outputs": [],
      "execution_count": null
    },
    {
      "cell_type": "markdown",
      "metadata": {
        "id": "R1Es43a31Vg7"
      },
      "source": [
        "#### Warstwa splotowa (konwolucyjna)\n",
        "\n",
        "Warstwa splotowa przemieszcza jądro (ang. *kernel*), zwane też filtrem, po obrazie kawałek po kawałku, oblicza wynik i zapamiętuje go w macierzy wyjściowej. Przetwarzany obrazek jest często uzupełniany o zera (ang. *padding*), ponieważ bez tego macierz wynikowa byłaby mniejsza niż obrazek wejściowy. Piksel w macierzy wyjściowej obliczany jest następująco: każdy z pikseli obrazu wejściowego jest mnożony przez odpowiadającą mu wartość w filtrze, a tak uzyskane 9 wartości jest sumowane. Następnie ten sam filtr wykorzystywany jest do obliczenia kolejnego piksela. Filtr składa się z wag splotowej sieci neuronowej, co oznacza, że to on podlega uczeniu.\n",
        "\n",
        "Jądro nie musi przesuwać się za każdym razem o 1 piksel, może mieć większy krok (ang. *stride*).\n",
        "\n",
        "Jeśli obrazek jest kolorowy możemy go postrzegać jako kilka obrazków monochromatycznych.\n",
        "\n",
        "Przykład: [jak działa sieć konwolucyjna](https://bfirst.tech/wp-content/uploads/2022/01/gif_blog.gif)"
      ]
    },
    {
      "cell_type": "markdown",
      "metadata": {
        "id": "cnP9sx9t1Vg8"
      },
      "source": [
        "Warstwę splotową w PyTorch realizuje klasa [`torch.nn.Conv2d`](https://pytorch.org/docs/stable/nn.html?highlight=conv2d#torch.nn.Conv2d). Pierwsze jej trzy parametry są obowiązkowe, są to:\n",
        "\n",
        "- liczba map na wejściu,\n",
        "- liczba map na wyjściu,\n",
        "- rozmiar jądra (jedna liczba jeżeli ma być kwadratowe albo para liczb jeżeli ma być prostokątem).\n",
        "\n",
        "Będziemy budowali krok po kroku listę, w której będziemy umieszczali kolejne warstwy sieci.\n",
        "\n",
        "Rozpoczniemy od dodania warstwy splotowej.\n",
        "\n",
        "Obrazki MNIST są monochromatyczne, więc mamy tylko 1 kanał wejściowy.\n",
        "\n",
        "Przyjmimy, że na wyjściu będziemy mieli **5 map**, każdą na bazie kwadratowego filtra o boku 3.\n",
        "Żeby nie zmniejszyć zbyt szybko obrazka dodamy po 1 pikselu paddingu z każdej strony - jak w ww. przykładzie."
      ]
    },
    {
      "cell_type": "code",
      "metadata": {
        "ExecuteTime": {
          "end_time": "2025-01-03T10:31:25.884331Z",
          "start_time": "2025-01-03T10:31:25.856621Z"
        },
        "id": "ml70EsyC1Vg9"
      },
      "source": [
        "layers = [nn.Conv2d(1, 5, 3, padding=1)]"
      ],
      "outputs": [],
      "execution_count": null
    },
    {
      "cell_type": "markdown",
      "metadata": {
        "id": "DS0QfHNn1Vg9"
      },
      "source": [
        "Warstwa splotowa - podobnie jak warstwa liniowa (`nn.Linear`) - jest tylko sumą. By wprowadzić nieliniowość, zastosujemy *Leaky ReLU*"
      ]
    },
    {
      "cell_type": "code",
      "metadata": {
        "ExecuteTime": {
          "end_time": "2025-01-03T10:31:36.833078Z",
          "start_time": "2025-01-03T10:31:36.823954Z"
        },
        "id": "vJhWHLH71Vg-"
      },
      "source": [
        "layers.append(nn.LeakyReLU())"
      ],
      "outputs": [],
      "execution_count": null
    },
    {
      "cell_type": "markdown",
      "metadata": {
        "id": "xnBri6421Vg-"
      },
      "source": [
        "Druga warstwa jest nazywana łączącą (ang. *pooling layer*). Jej zadaniem jest zmniejszenie wymiarów cech konwolucyjnych, wyznaczonych w poprzedniej warstwie, przy zachowaniu kluczowych szczegółów. Odpowiada również za redukcję szumu.\n",
        "\n",
        "Warstwa ta, podobnie jak warstwa splotowa przesuwa filtr przez obraz, ale ten filtr jest pozbawiony parametrów: służy albo do wybierania maksimum (ang. *max pooling*) albo do obliczania średniej arytmetycznej (ang. *average pooling*). Każda mapa analizowana jest oddzielnie, więc zawsze pozostajemy w dwóch wymiarach.\n",
        "\n",
        "Kontynuacja przykładu: [jak działa pooling](https://bfirst.tech/wp-content/uploads/2022/01/blog_konwolucyjne_sieci33.svg)"
      ]
    },
    {
      "cell_type": "markdown",
      "metadata": {
        "id": "xcC4IUSr1Vg-"
      },
      "source": [
        "Dodamy zatem do naszej sieci neuronowej *max pooling*, realizowany za pomocą klasy `nn.MaxPool2d`, z jądrem rozmiaru $3 x 3$ i uzupełnieniem o 1 piksel z każdej strony."
      ]
    },
    {
      "cell_type": "code",
      "metadata": {
        "ExecuteTime": {
          "end_time": "2025-01-03T10:32:41.723279Z",
          "start_time": "2025-01-03T10:32:41.710483Z"
        },
        "id": "bJJayQe91Vg_"
      },
      "source": [
        "layers.append(nn.MaxPool2d(3, padding=1))"
      ],
      "outputs": [],
      "execution_count": null
    },
    {
      "cell_type": "markdown",
      "metadata": {
        "id": "ds5wvW9r1Vg_"
      },
      "source": [
        "**Zadanie 1a. Mamy 5 map, a jakiego rozmiaru będą one na tym etapie przetwarzania, jeżeli wejście miało mapę rozmiaru $28 x 28$, a jądro ma rozmiar 3 z krokiem 3?**"
      ]
    },
    {
      "cell_type": "markdown",
      "metadata": {
        "id": "j0XINFnx1Vg_"
      },
      "source": [
        "Każda z 5 map na wyjściu będzie miała rozmiar 9x9"
      ]
    },
    {
      "cell_type": "markdown",
      "metadata": {
        "id": "aS2JZlRK1VhA"
      },
      "source": [
        "### Spłaszczenie i klasyfikacja\n",
        "\n",
        "Na tym etapie każdy obiekt przetwarzany przez sieć jest trójwymiarowy, czyli składa się z pewnej liczby dwuwymiarowych map. Do klasyfikacji wykorzystamy sumującą warstwę liniową `nn.Linear`. Nie jest to dla niej odpowiedni format wejścia. Zatem najpierw za pomocą klasy `nn.Flatten` ułożymy piksele jeden za drugim w wektor.\n",
        "\n",
        "**Zadanie 1b. Klasyfikujemy do 10 klas, więc mamy 10 neuronów wyjściowych, a ilu potrzeba wejść? Uzupełnij kod (w miejscu ...) na podstawie wyników zad. 1.**"
      ]
    },
    {
      "cell_type": "code",
      "metadata": {
        "ExecuteTime": {
          "end_time": "2025-01-03T11:31:20.867303Z",
          "start_time": "2025-01-03T11:31:20.854027Z"
        },
        "id": "CQGQWjjd1VhA"
      },
      "source": [
        "layers.append(torch.nn.Flatten())\n",
        "layers.append(nn.Linear(500, 10))"
      ],
      "outputs": [],
      "execution_count": null
    },
    {
      "cell_type": "markdown",
      "metadata": {
        "id": "awsKdP8H1VhB"
      },
      "source": [
        "### Konfiguracja sieci\n",
        "\n",
        "**Zadanie 1c. Połącz gotowe warstwy w jeden sekwencyjny moduł, jako funkcję straty zadeklaruj entropię krzyżową/skrośną, a do optymalizacji parametrów modelu użyj optymalizatora Adam.**"
      ]
    },
    {
      "metadata": {
        "ExecuteTime": {
          "end_time": "2025-01-03T11:31:29.736919Z",
          "start_time": "2025-01-03T11:31:29.721542Z"
        },
        "id": "5j4PTe8d1VhB"
      },
      "cell_type": "code",
      "source": [
        "# Definicja warstw modelu\n",
        "layers = [\n",
        "    nn.Conv2d(1, 5, 3, padding=1),  # Warstwa konwolucyjna\n",
        "    nn.LeakyReLU(),                # Aktywacja\n",
        "    nn.MaxPool2d(3, padding=1),    # Warstwa łącząca (MaxPooling)\n",
        "    nn.Flatten(),            # Spłaszczenie\n",
        "    nn.Linear(500, 10)             # Warstwa liniowa do klasyfikacji\n",
        "]\n",
        "\n",
        "# Połączenie warstw w sekwencyjny moduł\n",
        "model = nn.Sequential(*layers)\n",
        "\n",
        "# Funkcja kosztu: entropia krzyżowa\n",
        "cost = nn.CrossEntropyLoss()\n",
        "\n",
        "# Optymalizator: Adam\n",
        "opt = optim.Adam(model.parameters(), lr=0.001)\n"
      ],
      "outputs": [],
      "execution_count": null
    },
    {
      "cell_type": "code",
      "metadata": {
        "ExecuteTime": {
          "end_time": "2025-01-03T11:31:31.954664Z",
          "start_time": "2025-01-03T11:31:31.932626Z"
        },
        "id": "XftCCGsO1VhB",
        "outputId": "590dbd70-ad95-449e-88b5-27887c75f7d4"
      },
      "source": [
        "model"
      ],
      "outputs": [
        {
          "data": {
            "text/plain": [
              "Sequential(\n",
              "  (0): Conv2d(1, 5, kernel_size=(3, 3), stride=(1, 1), padding=(1, 1))\n",
              "  (1): LeakyReLU(negative_slope=0.01)\n",
              "  (2): MaxPool2d(kernel_size=3, stride=3, padding=1, dilation=1, ceil_mode=False)\n",
              "  (3): Flatten(start_dim=1, end_dim=-1)\n",
              "  (4): Linear(in_features=500, out_features=10, bias=True)\n",
              ")"
            ]
          },
          "execution_count": 28,
          "metadata": {},
          "output_type": "execute_result"
        }
      ],
      "execution_count": null
    },
    {
      "cell_type": "markdown",
      "metadata": {
        "id": "3uwFoUs41VhC"
      },
      "source": [
        "### Uczenie z wykorzystaniem wczesnego zatrzymania\n",
        "\n",
        "Wczesne zatrzymanie (ang. *early stopping*) składa się z następujących kroków:\n",
        "- co określoną liczbę epok uczenia obliczamy miarę oceny (np. trafność klasyfikacji) na zbiorze walidującym\n",
        "- jeżeli nastąpiła poprawa w stosunku do poprzedniego razu, zapamiętujemy obecne wartości wag sieci neuronowej\n",
        "- jeżeli przez określoną liczbę epok nie następuje poprawa, przerywamy uczenie i przywracamy wagi ostatniego najlepszego modelu\n",
        "\n",
        "**Zadanie 2a. Poniższy kawałek kodu oblicza trafność na zbiorze walidującym co epokę. Dodaj kod przerywający uczenie, jeżeli przez 5 kolejnych epok nie nastąpiła poprawa. Wyświetlaj wynik i numer porządkowy aktualnie najlepszej epoki, skorzystaj z zadeklarowanych zmiennych, podaj informację o fakcie wczesnego zatrzymania. Pamiętaj że najlepszy model powinien zostać zapisany, sprawdź w dokumentacji biblioteki pytorch jak to zrobić (jest to funkcja modelu). Na końcu ładujemy najlepszy model.**"
      ]
    },
    {
      "metadata": {
        "ExecuteTime": {
          "end_time": "2025-01-03T11:24:42.678568Z",
          "start_time": "2025-01-03T11:12:18.243490Z"
        },
        "id": "ceh_jdeN1VhC",
        "outputId": "06a5ff8d-645c-43a2-c2a8-5b44758128b4"
      },
      "cell_type": "code",
      "outputs": [
        {
          "name": "stdout",
          "output_type": "stream",
          "text": [
            "Nowa najlepsza trafność: 0.7575 w epoce 0\n",
            "Nowa najlepsza trafność: 0.7952 w epoce 1\n",
            "Nowa najlepsza trafność: 0.8216 w epoce 2\n",
            "Nowa najlepsza trafność: 0.8354 w epoce 3\n",
            "Nowa najlepsza trafność: 0.8447 w epoce 4\n",
            "Nowa najlepsza trafność: 0.8477 w epoce 5\n",
            "Nowa najlepsza trafność: 0.8561 w epoce 6\n",
            "Nowa najlepsza trafność: 0.8597 w epoce 7\n",
            "Nowa najlepsza trafność: 0.8625 w epoce 8\n",
            "Nowa najlepsza trafność: 0.8661 w epoce 9\n",
            "Nowa najlepsza trafność: 0.8699 w epoce 10\n",
            "Nowa najlepsza trafność: 0.8708 w epoce 11\n",
            "Nowa najlepsza trafność: 0.8733 w epoce 12\n",
            "Nowa najlepsza trafność: 0.8734 w epoce 13\n",
            "Nowa najlepsza trafność: 0.8740 w epoce 14\n",
            "Nowa najlepsza trafność: 0.8756 w epoce 15\n",
            "Nowa najlepsza trafność: 0.8766 w epoce 16\n",
            "Nowa najlepsza trafność: 0.8781 w epoce 17\n",
            "Brak poprawy przez 1 epok\n",
            "Nowa najlepsza trafność: 0.8798 w epoce 19\n",
            "Nowa najlepsza trafność: 0.8801 w epoce 20\n",
            "Nowa najlepsza trafność: 0.8802 w epoce 21\n",
            "Nowa najlepsza trafność: 0.8808 w epoce 22\n",
            "Nowa najlepsza trafność: 0.8817 w epoce 23\n",
            "Brak poprawy przez 1 epok\n",
            "Brak poprawy przez 2 epok\n",
            "Brak poprawy przez 3 epok\n",
            "Nowa najlepsza trafność: 0.8823 w epoce 27\n",
            "Nowa najlepsza trafność: 0.8839 w epoce 28\n",
            "Brak poprawy przez 1 epok\n",
            "Nowa najlepsza trafność: 0.8842 w epoce 30\n",
            "Brak poprawy przez 1 epok\n",
            "Nowa najlepsza trafność: 0.8855 w epoce 32\n",
            "Brak poprawy przez 1 epok\n",
            "Brak poprawy przez 2 epok\n",
            "Brak poprawy przez 3 epok\n",
            "Brak poprawy przez 4 epok\n",
            "Brak poprawy przez 5 epok\n",
            "Wczesne zatrzymanie! Najlepsza trafność: 0.8855 w epoce 32\n",
            "Załadowano najlepszy model z epoki 32 o trafności 0.8855\n"
          ]
        }
      ],
      "execution_count": null,
      "source": [
        "train_loss = []\n",
        "validation_acc = []\n",
        "best_model = None\n",
        "best_acc = 0  # Początkowa wartość najlepszej trafności\n",
        "best_epoch = 0\n",
        "max_epoch = 10000\n",
        "no_improvement = 5  # Liczba epok bez poprawy przed zatrzymaniem\n",
        "batch_size = 512\n",
        "patience_counter = 0  # Licznik epok bez poprawy\n",
        "\n",
        "for n_epoch in range(max_epoch):\n",
        "    model.train()\n",
        "    loader = data.DataLoader(fmnist_train, batch_size=batch_size, shuffle=True, num_workers=1)\n",
        "    epoch_loss = []\n",
        "\n",
        "    # Trening modelu\n",
        "    for X_batch, y_batch in loader:\n",
        "        opt.zero_grad()\n",
        "        logits = model(X_batch)\n",
        "        loss = cost(logits, y_batch)\n",
        "        loss.backward()\n",
        "        opt.step()\n",
        "        epoch_loss.append(loss.detach())\n",
        "    train_loss.append(torch.tensor(epoch_loss).mean())\n",
        "\n",
        "    # Walidacja\n",
        "    model.eval()\n",
        "    loader = data.DataLoader(fmnist_validation, batch_size=len(fmnist_validation), shuffle=False)\n",
        "    X, y = next(iter(loader))\n",
        "    logits = model(X)\n",
        "    acc = compute_acc(logits, y).detach()\n",
        "    validation_acc.append(acc)\n",
        "\n",
        "    # Sprawdzanie poprawy trafności\n",
        "    if acc > best_acc:\n",
        "        best_acc = acc\n",
        "        best_epoch = n_epoch\n",
        "        best_model = model.state_dict()  # Zapis stanu najlepszego modelu\n",
        "        patience_counter = 0  # Resetowanie licznika cierpliwości\n",
        "        print(f\"Nowa najlepsza trafność: {best_acc:.4f} w epoce {best_epoch}\")\n",
        "    else:\n",
        "        patience_counter += 1\n",
        "        print(f\"Brak poprawy przez {patience_counter} epok\")\n",
        "\n",
        "    # Wczesne zatrzymanie\n",
        "    if patience_counter >= no_improvement:\n",
        "        print(f\"Wczesne zatrzymanie! Najlepsza trafność: {best_acc:.4f} w epoce {best_epoch}\")\n",
        "        break\n",
        "\n",
        "# Załadowanie najlepszego modelu\n",
        "model.load_state_dict(best_model)\n",
        "print(f\"Załadowano najlepszy model z epoki {best_epoch} o trafności {best_acc:.4f}\")\n"
      ]
    },
    {
      "cell_type": "markdown",
      "metadata": {
        "id": "Tsor3URT1VhD"
      },
      "source": [
        "Przyjrzyj się poniższym wykresom"
      ]
    },
    {
      "cell_type": "code",
      "metadata": {
        "ExecuteTime": {
          "end_time": "2025-01-03T11:25:09.257424Z",
          "start_time": "2025-01-03T11:25:08.516218Z"
        },
        "id": "_Raakng-1VhD",
        "outputId": "9818f4c1-66b1-474b-d576-f5960191749a"
      },
      "source": [
        "plt.title('Trafność na zbiorze walidacyjnym. Kropka oznacza najlepszą trafność.')\n",
        "plt.plot(validation_acc, label='Trafność na zbiorze walidacyjnym')\n",
        "plt.plot(best_epoch, best_acc, 'bo', label='Najlepsza trafność')\n",
        "plt.show()\n",
        "plt.title('Błąd na zbiorze treningowym')\n",
        "plt.plot(train_loss)\n",
        "plt.show()\n",
        "k = max(3*no_improvement, 0)\n",
        "plt.title('Ostatnie {} epok'.format(k))\n",
        "plt.plot(validation_acc[-k:])\n",
        "plt.plot(best_epoch-(len(validation_acc)-k), best_acc, 'bo')\n",
        "plt.show()"
      ],
      "outputs": [
        {
          "data": {
            "text/plain": [
              "<Figure size 640x480 with 1 Axes>"
            ],
            "image/png": "[encoded data removed]"
          },
          "metadata": {},
          "output_type": "display_data"
        },
        {
          "data": {
            "text/plain": [
              "<Figure size 640x480 with 1 Axes>"
            ],
            "image/png": "[encoded data removed]"
          },
          "metadata": {},
          "output_type": "display_data"
        },
        {
          "data": {
            "text/plain": [
              "<Figure size 640x480 with 1 Axes>"
            ],
            "image/png": "[encoded data removed]"
          },
          "metadata": {},
          "output_type": "display_data"
        }
      ],
      "execution_count": null
    },
    {
      "cell_type": "markdown",
      "metadata": {
        "id": "dGrrAvzJ1VhE"
      },
      "source": [
        "**Zadanie 2b. Dlaczego wczesne zatrzymanie jest realizowane na zbiorze walidującym, a nie na zbiorze uczącym albo na zbiorze testowym?**"
      ]
    },
    {
      "cell_type": "markdown",
      "metadata": {
        "id": "ScQwc-To1VhE"
      },
      "source": [
        "Ponieważ zbiór testowy należy wykorzystać dopiero po zakończonym treningu modelu, a nie w trakcie uczenia się. Dlatego do wczesnego zatrzymania wykorzystujemy zbiór walidacyjny."
      ]
    }
  ],
  "metadata": {
    "kernelspec": {
      "display_name": "Python 3 (ipykernel)",
      "language": "python",
      "name": "python3"
    },
    "language_info": {
      "codemirror_mode": {
        "name": "ipython",
        "version": 3
      },
      "file_extension": ".py",
      "mimetype": "text/x-python",
      "name": "python",
      "nbconvert_exporter": "python",
      "pygments_lexer": "ipython3",
      "version": "3.11.6"
    },
    "colab": {
      "provenance": [],
      "include_colab_link": true
    }
  },
  "nbformat": 4,
  "nbformat_minor": 0
}